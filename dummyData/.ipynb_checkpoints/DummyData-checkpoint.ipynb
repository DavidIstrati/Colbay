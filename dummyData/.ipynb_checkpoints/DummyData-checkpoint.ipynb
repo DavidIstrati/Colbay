{
 "cells": [
  {
   "cell_type": "code",
   "execution_count": 10,
   "id": "41451084",
   "metadata": {},
   "outputs": [],
   "source": [
    "import pandas as pd\n",
    "import numpy as np\n",
    "import matplotlib.pyplot as plt\n",
    "import plotly.express as px\n",
    "import re\n",
    "import os\n",
    "\n",
    "import random\n",
    "import json\n",
    "\n",
    "\n",
    "from faker import Faker\n",
    "import requests\n",
    "import time"
   ]
  },
  {
   "cell_type": "code",
   "execution_count": 2,
   "id": "f0d4090d",
   "metadata": {},
   "outputs": [],
   "source": [
    "df = pd.read_csv(\"/Users/davidistrati/Downloads/home-and-garden.csv\")"
   ]
  },
  {
   "cell_type": "code",
   "execution_count": 3,
   "id": "28de4bcb",
   "metadata": {},
   "outputs": [],
   "source": [
    "titles = df[~df['Title'].isna()].Title.values.tolist()\n",
    "keywords = df[~df['Title'].isna()].Tags.values.tolist()\n",
    "description = df[~df['Title'].isna()]['Body (HTML)'].transform(lambda x: x.replace(\"<p>\", \"\")).transform(lambda x: x.replace(\"</p>\", \"\")).values.tolist()  "
   ]
  },
  {
   "cell_type": "code",
   "execution_count": 4,
   "id": "e5819d12",
   "metadata": {},
   "outputs": [],
   "source": [
    "keywords = [keywords_item.split(\", \") for keywords_item in keywords]"
   ]
  },
  {
   "cell_type": "code",
   "execution_count": 6,
   "id": "572066be",
   "metadata": {},
   "outputs": [],
   "source": [
    "images=[]\n",
    "for title in titles:\n",
    "    content = requests.get(f'https://api.unsplash.com/search/photos?query={title}&client_id=ZswFESXx_JnS_bzns7TNJJFNKa7VblY5xf_qyG3Gg-k')\n",
    "    photoId = content.json()['results'][0]['id']\n",
    "    time.sleep(1)\n",
    "    images.append(f'https://source.unsplash.com/{photoId}/286x191')"
   ]
  },
  {
   "cell_type": "code",
   "execution_count": 13,
   "id": "aec3f038",
   "metadata": {},
   "outputs": [
    {
     "ename": "AttributeError",
     "evalue": "'str' object has no attribute 'write'",
     "output_type": "error",
     "traceback": [
      "\u001b[0;31m---------------------------------------------------------------------------\u001b[0m",
      "\u001b[0;31mAttributeError\u001b[0m                            Traceback (most recent call last)",
      "\u001b[0;32m/var/folders/sj/yhp9jrrd17b3njtg7p2ntgy00000gn/T/ipykernel_4381/572401310.py\u001b[0m in \u001b[0;36m<module>\u001b[0;34m\u001b[0m\n\u001b[1;32m      8\u001b[0m     \u001b[0;34m\"keywords\"\u001b[0m\u001b[0;34m:\u001b[0m \u001b[0mkeywords\u001b[0m\u001b[0;34m[\u001b[0m\u001b[0mi\u001b[0m\u001b[0;34m]\u001b[0m\u001b[0;34m,\u001b[0m\u001b[0;34m\u001b[0m\u001b[0;34m\u001b[0m\u001b[0m\n\u001b[1;32m      9\u001b[0m     \"category\": \"furniture\"})\n\u001b[0;32m---> 10\u001b[0;31m \u001b[0mjson\u001b[0m\u001b[0;34m.\u001b[0m\u001b[0mdump\u001b[0m\u001b[0;34m(\u001b[0m\u001b[0;34m{\u001b[0m\u001b[0;34m\"data\"\u001b[0m\u001b[0;34m:\u001b[0m\u001b[0mdummyDataProductInfo\u001b[0m\u001b[0;34m}\u001b[0m\u001b[0;34m,\u001b[0m \u001b[0;34m\"dummyDataProductInfo.json\"\u001b[0m\u001b[0;34m)\u001b[0m\u001b[0;34m\u001b[0m\u001b[0;34m\u001b[0m\u001b[0m\n\u001b[0m",
      "\u001b[0;32m/opt/anaconda3/lib/python3.9/json/__init__.py\u001b[0m in \u001b[0;36mdump\u001b[0;34m(obj, fp, skipkeys, ensure_ascii, check_circular, allow_nan, cls, indent, separators, default, sort_keys, **kw)\u001b[0m\n\u001b[1;32m    178\u001b[0m     \u001b[0;31m# a debuggability cost\u001b[0m\u001b[0;34m\u001b[0m\u001b[0;34m\u001b[0m\u001b[0m\n\u001b[1;32m    179\u001b[0m     \u001b[0;32mfor\u001b[0m \u001b[0mchunk\u001b[0m \u001b[0;32min\u001b[0m \u001b[0miterable\u001b[0m\u001b[0;34m:\u001b[0m\u001b[0;34m\u001b[0m\u001b[0;34m\u001b[0m\u001b[0m\n\u001b[0;32m--> 180\u001b[0;31m         \u001b[0mfp\u001b[0m\u001b[0;34m.\u001b[0m\u001b[0mwrite\u001b[0m\u001b[0;34m(\u001b[0m\u001b[0mchunk\u001b[0m\u001b[0;34m)\u001b[0m\u001b[0;34m\u001b[0m\u001b[0;34m\u001b[0m\u001b[0m\n\u001b[0m\u001b[1;32m    181\u001b[0m \u001b[0;34m\u001b[0m\u001b[0m\n\u001b[1;32m    182\u001b[0m \u001b[0;34m\u001b[0m\u001b[0m\n",
      "\u001b[0;31mAttributeError\u001b[0m: 'str' object has no attribute 'write'"
     ]
    }
   ],
   "source": [
    "dummyDataProductInfo = []\n",
    "for i in range(20):\n",
    "    dummyDataProductInfo.append({\n",
    "    \"userId\": \"0TSj03LQfCLY9ye6RL6QqikpG4hKpb7Uy4ONxVkyM5k=\",\n",
    "    \"price\": str(random.randint(40,200)),\n",
    "    \"title\": titles[i],\n",
    "    \"description\": description[i],\n",
    "    \"keywords\": keywords[i],\n",
    "    \"category\": \"furniture\"})\n",
    "json.dump(\"dummyDataProductInfo.json\", {\"data\":dummyDataProductInfo})"
   ]
  },
  {
   "cell_type": "code",
   "execution_count": null,
   "id": "c898a52c",
   "metadata": {},
   "outputs": [],
   "source": [
    "import requests\n",
    "import shutil\n",
    "\n",
    "for i in range(20):\n",
    "r = requests.get(settings.STATICMAP_URL.format(**data), stream=True)\n",
    "if r.status_code == 200:\n",
    "    with open(path, 'wb') as f:\n",
    "        r.raw.decode_content = True\n",
    "        shutil.copyfileobj(r.raw, f)    "
   ]
  },
  {
   "cell_type": "code",
   "execution_count": 53,
   "id": "86a2c845",
   "metadata": {},
   "outputs": [
    {
     "name": "stdout",
     "output_type": "stream",
     "text": [
      "b'{\"listingId\":\"1kxPdb62T3qRUEpciQgGLA==\",\"description\":\"Classic blown clay pot for plants\",\"category\":\"furniture\",\"keywords\":\"pot, plants\",\"standardizedDescription\":\"classic blown clay pot for plants\",\"image\":\"https://source.unsplash.com/miziNqvJx5M/286x191\",\"date\":null,\"searchTsVector\":\"\\'blown\\':5 \\'classic\\':4 \\'clay\\':1,6 \\'plant\\':2,9,11 \\'pot\\':3,7,10\",\"title\":\"Clay Plant Pot\",\"keywords_list\":[\"Pot\",\"Plants\"],\"standardizedTitle\":\"clay plant pot\",\"price\":\"160\",\"userId\":\"0TSj03LQfCLY9ye6RL6QqikpG4hKpb7Uy4ONxVkyM5k=\",\"likesCount\":0}'\n",
      "b'{\"listingId\":\"upcrb5RdQtWYJKFZggH4-A==\",\"description\":\"Stylish copper bedside light\",\"category\":\"furniture\",\"keywords\":\"copper, bedroom\",\"standardizedDescription\":\"stylish copper bedside light\",\"image\":\"https://source.unsplash.com/T0BYurbDK_M/286x191\",\"date\":null,\"searchTsVector\":\"\\'bedroom\\':8 \\'bedsid\\':5 \\'copper\\':1,4,7 \\'light\\':2,6 \\'stylish\\':3\",\"title\":\"Copper Light\",\"keywords_list\":[\"Copper\",\"Bedroom\"],\"standardizedTitle\":\"copper light\",\"price\":\"197\",\"userId\":\"0TSj03LQfCLY9ye6RL6QqikpG4hKpb7Uy4ONxVkyM5k=\",\"likesCount\":0}'\n",
      "b'{\"listingId\":\"etAvuMrLTYyh8LLb-FO-VQ==\",\"description\":\"Comfortable cream sofa with wooden base\",\"category\":\"furniture\",\"keywords\":\"couch, wood\",\"standardizedDescription\":\"comfortable cream sofa with wooden base\",\"image\":\"https://source.unsplash.com/kEvxifSVoV8/286x191\",\"date\":null,\"searchTsVector\":\"\\'base\\':8 \\'comfort\\':3 \\'couch\\':9 \\'cream\\':1,4 \\'sofa\\':2,5 \\'wood\\':10 \\'wooden\\':7\",\"title\":\"Cream Sofa\",\"keywords_list\":[\"Couch\",\"Wood\"],\"standardizedTitle\":\"cream sofa\",\"price\":\"161\",\"userId\":\"0TSj03LQfCLY9ye6RL6QqikpG4hKpb7Uy4ONxVkyM5k=\",\"likesCount\":0}'\n",
      "b'{\"listingId\":\"EXhQhZsxQnmk4Cpht1N4Nw==\",\"description\":\"Antique wooden chest of drawers\",\"category\":\"furniture\",\"keywords\":\"antique, bedroom\",\"standardizedDescription\":\"antique wooden chest of drawers\",\"image\":\"https://source.unsplash.com/QCPv6G4dMN0/286x191\",\"date\":null,\"searchTsVector\":\"\\'antiqu\\':1,3,8 \\'bedroom\\':9 \\'chest\\':5 \\'drawer\\':2,7 \\'wooden\\':4\",\"title\":\"Antique Drawers\",\"keywords_list\":[\"Antique\",\"Bedroom\"],\"standardizedTitle\":\"antique drawers\",\"price\":\"88\",\"userId\":\"0TSj03LQfCLY9ye6RL6QqikpG4hKpb7Uy4ONxVkyM5k=\",\"likesCount\":0}'\n",
      "b'{\"listingId\":\"__TmGaecS12t0xvrvP5Fag==\",\"description\":\"Sleek white bed clothes\",\"category\":\"furniture\",\"keywords\":\"bed\",\"standardizedDescription\":\"sleek white bed clothes\",\"image\":\"https://source.unsplash.com/yekIZ4ltv1o/286x191\",\"date\":null,\"searchTsVector\":\"\\'bed\\':2,6,8 \\'cloth\\':3,7 \\'sleek\\':4 \\'white\\':1,5\",\"title\":\"White Bed Clothes\",\"keywords_list\":[\"Bed\"],\"standardizedTitle\":\"white bed clothes\",\"price\":\"130\",\"userId\":\"0TSj03LQfCLY9ye6RL6QqikpG4hKpb7Uy4ONxVkyM5k=\",\"likesCount\":0}'\n",
      "b'{\"listingId\":\"lHDHRlifQnyd0MsPO7pe1g==\",\"description\":\"Stylish pink armchair\",\"category\":\"furniture\",\"keywords\":\"chair\",\"standardizedDescription\":\"stylish pink armchair\",\"image\":\"https://source.unsplash.com/Vkh_6A7QWy0/286x191\",\"date\":null,\"searchTsVector\":\"\\'armchair\\':2,5 \\'chair\\':6 \\'pink\\':1,4 \\'stylish\\':3\",\"title\":\"Pink Armchair\",\"keywords_list\":[\"Chair\"],\"standardizedTitle\":\"pink armchair\",\"price\":\"45\",\"userId\":\"0TSj03LQfCLY9ye6RL6QqikpG4hKpb7Uy4ONxVkyM5k=\",\"likesCount\":0}'\n",
      "b'{\"listingId\":\"cP1Hh7O2TiWKrHOyQlihRg==\",\"description\":\"Chic wooden outdoor garden table\",\"category\":\"furniture\",\"keywords\":\"wood, garden\",\"standardizedDescription\":\"chic wooden outdoor garden table\",\"image\":\"https://source.unsplash.com/y1XXWct5rBo/286x191\",\"date\":null,\"searchTsVector\":\"\\'chic\\':4 \\'garden\\':7,10 \\'outdoor\\':2,6 \\'tabl\\':3,8 \\'wood\\':9 \\'wooden\\':1,5\",\"title\":\"Wooden Outdoor Table\",\"keywords_list\":[\"Wood\",\"Garden\"],\"standardizedTitle\":\"wooden outdoor table\",\"price\":\"184\",\"userId\":\"0TSj03LQfCLY9ye6RL6QqikpG4hKpb7Uy4ONxVkyM5k=\",\"likesCount\":0}'\n",
      "b'{\"listingId\":\"LmSavHwMQmuoN4Cb4KzPDQ==\",\"description\":\"Stylish brown throw pillows\",\"category\":\"furniture\",\"keywords\":\"pillows\",\"standardizedDescription\":\"stylish brown throw pillows\",\"image\":\"https://source.unsplash.com/Ui4al3h4-lU/286x191\",\"date\":null,\"searchTsVector\":\"\\'brown\\':1,5 \\'pillow\\':3,7,8 \\'stylish\\':4 \\'throw\\':2,6\",\"title\":\"Brown Throw Pillows\",\"keywords_list\":[\"Pillows\"],\"standardizedTitle\":\"brown throw pillows\",\"price\":\"85\",\"userId\":\"0TSj03LQfCLY9ye6RL6QqikpG4hKpb7Uy4ONxVkyM5k=\",\"likesCount\":0}'\n",
      "b'{\"listingId\":\"uJ3cBqwRTbqokdFF3UuGWQ==\",\"description\":\"Homemade white ceramic flower pot\",\"category\":\"furniture\",\"keywords\":\"pot, plants\",\"standardizedDescription\":\"homemade white ceramic flower pot\",\"image\":\"https://source.unsplash.com/u_jt9A7FADk/286x191\",\"date\":null,\"searchTsVector\":\"\\'ceram\\':2,6 \\'flower\\':7 \\'homemad\\':4 \\'plant\\':10 \\'pot\\':3,8,9 \\'white\\':1,5\",\"title\":\"White Ceramic Pot\",\"keywords_list\":[\"Pot\",\"Plants\"],\"standardizedTitle\":\"white ceramic pot\",\"price\":\"198\",\"userId\":\"0TSj03LQfCLY9ye6RL6QqikpG4hKpb7Uy4ONxVkyM5k=\",\"likesCount\":0}'\n",
      "b'{\"listingId\":\"1f0qAANnTcGC_VyGl0Xzpg==\",\"description\":\"Vintage vibrant watering can\",\"category\":\"furniture\",\"keywords\":\"plants\",\"standardizedDescription\":\"vintage vibrant watering can\",\"image\":\"https://source.unsplash.com/psKJ6wSei8k/286x191\",\"date\":null,\"searchTsVector\":\"\\'plant\\':8 \\'vibrant\\':5 \\'vintag\\':4 \\'water\\':2,6 \\'yellow\\':1\",\"title\":\"Yellow watering can\",\"keywords_list\":[\"Plants\"],\"standardizedTitle\":\"yellow watering can\",\"price\":\"128\",\"userId\":\"0TSj03LQfCLY9ye6RL6QqikpG4hKpb7Uy4ONxVkyM5k=\",\"likesCount\":0}'\n",
      "b'{\"listingId\":\"h_F4wKMvSaecOY_WkZxxlw==\",\"description\":\"Metal gardening hand trowel with wooden handle\",\"category\":\"furniture\",\"keywords\":\"plants\",\"standardizedDescription\":\"metal gardening hand trowel with wooden handle\",\"image\":\"https://source.unsplash.com/c23Lv2fzEyo/286x191\",\"date\":null,\"searchTsVector\":\"\\'garden\\':1,5 \\'hand\\':2,6 \\'handl\\':10 \\'metal\\':4 \\'plant\\':11 \\'trowel\\':3,7 \\'wooden\\':9\",\"title\":\"Gardening hand trowel\",\"keywords_list\":[\"Plants\"],\"standardizedTitle\":\"gardening hand trowel\",\"price\":\"155\",\"userId\":\"0TSj03LQfCLY9ye6RL6QqikpG4hKpb7Uy4ONxVkyM5k=\",\"likesCount\":0}'\n",
      "b'{\"listingId\":\"WsQrf4twTI-rYtF_HcHJdw==\",\"description\":\"Biodegradable outdoor cardboard pots\",\"category\":\"furniture\",\"keywords\":\"garden, plants\",\"standardizedDescription\":\"biodegradable outdoor cardboard pots\",\"image\":\"https://source.unsplash.com/VI1Je4Rc8bg/286x191\",\"date\":null,\"searchTsVector\":\"\\'biodegrad\\':1,4 \\'cardboard\\':2,6 \\'garden\\':8 \\'outdoor\\':5 \\'plant\\':9 \\'pot\\':3,7\",\"title\":\"Biodegradable cardboard pots\",\"keywords_list\":[\"Garden\",\"Plants\"],\"standardizedTitle\":\"biodegradable cardboard pots\",\"price\":\"193\",\"userId\":\"0TSj03LQfCLY9ye6RL6QqikpG4hKpb7Uy4ONxVkyM5k=\",\"likesCount\":0}'\n",
      "b'{\"listingId\":\"fKKTdqyIT4WRrX3_jXR09Q==\",\"description\":\"Large four seater grey sofa\",\"category\":\"furniture\",\"keywords\":\"sofa\",\"standardizedDescription\":\"large four seater grey sofa\",\"image\":\"https://source.unsplash.com/YgREE-2uo3k/286x191\",\"date\":null,\"searchTsVector\":\"\\'four\\':4 \\'grey\\':1,6 \\'larg\\':3 \\'seater\\':5 \\'sofa\\':2,7,8\",\"title\":\"Grey Sofa\",\"keywords_list\":[\"Sofa\"],\"standardizedTitle\":\"grey sofa\",\"price\":\"70\",\"userId\":\"0TSj03LQfCLY9ye6RL6QqikpG4hKpb7Uy4ONxVkyM5k=\",\"likesCount\":0}'\n",
      "b'{\"listingId\":\"2U-qzBpWTDGHcciV_Qa0xg==\",\"description\":\"Wooden outdoor fencing slats\",\"category\":\"furniture\",\"keywords\":\"wood, garden\",\"standardizedDescription\":\"wooden outdoor fencing slats\",\"image\":\"https://source.unsplash.com/fTeKY04liS4/286x191\",\"date\":null,\"searchTsVector\":\"\\'fenc\\':6 \\'garden\\':9 \\'outdoor\\':2,5 \\'slat\\':3,7 \\'wood\\':8 \\'wooden\\':1,4\",\"title\":\"Wooden outdoor slats\",\"keywords_list\":[\"Wood\",\"Garden\"],\"standardizedTitle\":\"wooden outdoor slats\",\"price\":\"143\",\"userId\":\"0TSj03LQfCLY9ye6RL6QqikpG4hKpb7Uy4ONxVkyM5k=\",\"likesCount\":0}'\n",
      "b'{\"listingId\":\"Lr_ebLWLTdWp1xHDZGNz4A==\",\"description\":\"Wooden garden fence\",\"category\":\"furniture\",\"keywords\":\"garden, wood\",\"standardizedDescription\":\"wooden garden fence\",\"image\":\"https://source.unsplash.com/hB9vo06o9z8/286x191\",\"date\":null,\"searchTsVector\":\"\\'fenc\\':2,5 \\'garden\\':4,6 \\'wood\\':7 \\'wooden\\':1,3\",\"title\":\"Wooden Fence\",\"keywords_list\":[\"Garden\",\"Wood\"],\"standardizedTitle\":\"wooden fence\",\"price\":\"57\",\"userId\":\"0TSj03LQfCLY9ye6RL6QqikpG4hKpb7Uy4ONxVkyM5k=\",\"likesCount\":0}'\n",
      "b'{\"listingId\":\"BPIbsymrSf2uZExd30AK9Q==\",\"description\":\"Two seater yellow sofa with wooden legs\",\"category\":\"furniture\",\"keywords\":\"sofa\",\"standardizedDescription\":\"two seater yellow sofa with wooden legs\",\"image\":\"https://source.unsplash.com/psKJ6wSei8k/286x191\",\"date\":null,\"searchTsVector\":\"\\'leg\\':9 \\'seater\\':4 \\'sofa\\':2,6,10 \\'two\\':3 \\'wooden\\':8 \\'yellow\\':1,5\",\"title\":\"Yellow Sofa\",\"keywords_list\":[\"Sofa\"],\"standardizedTitle\":\"yellow sofa\",\"price\":\"157\",\"userId\":\"0TSj03LQfCLY9ye6RL6QqikpG4hKpb7Uy4ONxVkyM5k=\",\"likesCount\":0}'\n"
     ]
    },
    {
     "name": "stdout",
     "output_type": "stream",
     "text": [
      "b'{\"listingId\":\"16ffuXBdQ1CtzTu5gUhBIA==\",\"description\":\"Homemade knitted throw pillows in a variety of colors\",\"category\":\"furniture\",\"keywords\":\"pillows\",\"standardizedDescription\":\"homemade knitted throw pillows in a variety of colors\",\"image\":\"https://source.unsplash.com/CcB8h6y1gtY/286x191\",\"date\":null,\"searchTsVector\":\"\\'color\\':12 \\'homemad\\':4 \\'knit\\':1,5 \\'pillow\\':3,7,13 \\'throw\\':2,6 \\'varieti\\':10\",\"title\":\"Knitted Throw Pillows\",\"keywords_list\":[\"Pillows\"],\"standardizedTitle\":\"knitted throw pillows\",\"price\":\"177\",\"userId\":\"0TSj03LQfCLY9ye6RL6QqikpG4hKpb7Uy4ONxVkyM5k=\",\"likesCount\":0}'\n",
      "b'{\"listingId\":\"UGOaEnhyTVajGmu2OZ3uQg==\",\"description\":\"Vanilla scent candle in jar\",\"category\":\"furniture\",\"keywords\":\"candle\",\"standardizedDescription\":\"vanilla scent candle in jar\",\"image\":\"https://source.unsplash.com/XpdGn1cb6Sc/286x191\",\"date\":null,\"searchTsVector\":\"\\'candl\\':2,5,8 \\'jar\\':7 \\'scent\\':4 \\'vanilla\\':1,3\",\"title\":\"Vanilla candle\",\"keywords_list\":[\"Candle\"],\"standardizedTitle\":\"vanilla candle\",\"price\":\"112\",\"userId\":\"0TSj03LQfCLY9ye6RL6QqikpG4hKpb7Uy4ONxVkyM5k=\",\"likesCount\":0}'\n",
      "b'{\"listingId\":\"9jBcwv40TKSVQ5qfoJrXLA==\",\"description\":\"Black leather beanbag\",\"category\":\"furniture\",\"keywords\":\"black, leather\",\"standardizedDescription\":\"black leather beanbag\",\"image\":\"https://source.unsplash.com/IJ25m7fXqtk/286x191\",\"date\":null,\"searchTsVector\":\"\\'beanbag\\':2,5 \\'black\\':1,3,6 \\'leather\\':4,7\",\"title\":\"Black Beanbag\",\"keywords_list\":[\"Black\",\"Leather\"],\"standardizedTitle\":\"black beanbag\",\"price\":\"188\",\"userId\":\"0TSj03LQfCLY9ye6RL6QqikpG4hKpb7Uy4ONxVkyM5k=\",\"likesCount\":0}'\n",
      "b'{\"listingId\":\"wpGGzP1ARc6M21wNKXg2FQ==\",\"description\":\"Wooden bedside table\",\"category\":\"furniture\",\"keywords\":\"wood, bedroom\",\"standardizedDescription\":\"wooden bedside table\",\"image\":\"https://source.unsplash.com/hzcdUvFoTFE/286x191\",\"date\":null,\"searchTsVector\":\"\\'bedroom\\':7 \\'bedsid\\':1,4 \\'tabl\\':2,5 \\'wood\\':6 \\'wooden\\':3\",\"title\":\"Bedside Table\",\"keywords_list\":[\"Wood\",\"Bedroom\"],\"standardizedTitle\":\"bedside table\",\"price\":\"119\",\"userId\":\"0TSj03LQfCLY9ye6RL6QqikpG4hKpb7Uy4ONxVkyM5k=\",\"likesCount\":0}'\n"
     ]
    }
   ],
   "source": [
    "for i in range(20):\n",
    "    print(requests.post(\"http://127.0.0.1:8000/listing\", data=json.dumps({\n",
    "    \"userId\": \"0TSj03LQfCLY9ye6RL6QqikpG4hKpb7Uy4ONxVkyM5k=\",\n",
    "    \"price\": str(random.randint(40,200)),\n",
    "    \"title\": titles[i],\n",
    "    \"description\": description[i],\n",
    "    \"image\": images[i],\n",
    "    \"keywords_list\": keywords[i],\n",
    "    \"category\": \"furniture\"})).content)\n",
    "    time.sleep(0.5)"
   ]
  },
  {
   "cell_type": "code",
   "execution_count": null,
   "id": "32288b87",
   "metadata": {},
   "outputs": [],
   "source": []
  }
 ],
 "metadata": {
  "kernelspec": {
   "display_name": "Python 3 (ipykernel)",
   "language": "python",
   "name": "python3"
  },
  "language_info": {
   "codemirror_mode": {
    "name": "ipython",
    "version": 3
   },
   "file_extension": ".py",
   "mimetype": "text/x-python",
   "name": "python",
   "nbconvert_exporter": "python",
   "pygments_lexer": "ipython3",
   "version": "3.9.7"
  }
 },
 "nbformat": 4,
 "nbformat_minor": 5
}
